{
 "cells": [
  {
   "cell_type": "markdown",
   "id": "aa6bc80c",
   "metadata": {},
   "source": [
    "## Personal information "
   ]
  },
  {
   "cell_type": "code",
   "execution_count": 19,
   "id": "05d298a7",
   "metadata": {},
   "outputs": [
    {
     "name": "stdout",
     "output_type": "stream",
     "text": [
      "please enter your name here :irfan ullah\n",
      "please enter your age here :19\n",
      "please enter your complete adress here :jandola karriwam Fr Tank\n",
      "please enter your Qualification Here :FSc\n",
      "please enter your universcity name Here :IMSCIENCES peshawar\n",
      "========================================\n",
      "Hi irfan ullah\n",
      "irfan ullah your  are :  19 year old\n",
      "belong to :  jandola karriwam Fr Tank\n",
      "Your education is :  FSc\n",
      "Read in IMSCIENCES peshawar\n",
      "========================================\n"
     ]
    }
   ],
   "source": [
    "name=input(\"please enter your name here :\")\n",
    "age=int(input(\"please enter your age here :\"))\n",
    "adress=input(\"please enter your complete adress here :\")\n",
    "edu=input(\"please enter your Qualification Here :\")\n",
    "uni=input(\"please enter your universcity name Here :\")\n",
    "print('='*40)\n",
    "print(\"Hi\",name)\n",
    "print(name,\"your  are : \", age ,\"year old\")\n",
    "print(\"belong to : \",adress)\n",
    "print(\"Your education is : \",edu )\n",
    "print(\"Read in\",uni)\n",
    "print('='*40)"
   ]
  },
  {
   "cell_type": "markdown",
   "id": "613f8a23",
   "metadata": {},
   "source": [
    "### String  with Qotation marks "
   ]
  },
  {
   "cell_type": "code",
   "execution_count": 22,
   "id": "f33f6658",
   "metadata": {},
   "outputs": [
    {
     "name": "stdout",
     "output_type": "stream",
     "text": [
      "irfanullah\n"
     ]
    }
   ],
   "source": [
    "print('irfanullah')"
   ]
  },
  {
   "cell_type": "code",
   "execution_count": 21,
   "id": "225a28ad",
   "metadata": {},
   "outputs": [
    {
     "name": "stdout",
     "output_type": "stream",
     "text": [
      "irfanullah \n"
     ]
    }
   ],
   "source": [
    "print(\"irfanullah \")"
   ]
  },
  {
   "cell_type": "code",
   "execution_count": 20,
   "id": "0e57ae42",
   "metadata": {},
   "outputs": [
    {
     "name": "stdout",
     "output_type": "stream",
     "text": [
      "irfanullah\n"
     ]
    }
   ],
   "source": [
    "print('''irfanullah''')"
   ]
  },
  {
   "cell_type": "markdown",
   "id": "6317ead4",
   "metadata": {},
   "source": [
    "### Multiline string we use three quatation marks"
   ]
  },
  {
   "cell_type": "code",
   "execution_count": 23,
   "id": "af6a4ab1",
   "metadata": {},
   "outputs": [
    {
     "name": "stdout",
     "output_type": "stream",
     "text": [
      "hello\n",
      "\"irfan\"\n",
      "how are you\n"
     ]
    }
   ],
   "source": [
    "# this show multiline cose in one statment\n",
    "print('''hello\n",
    "\"irfan\"\n",
    "how are you''')"
   ]
  },
  {
   "cell_type": "markdown",
   "id": "cffb7d9e",
   "metadata": {},
   "source": [
    "## / this give result in floating number "
   ]
  },
  {
   "cell_type": "code",
   "execution_count": 24,
   "id": "1d6b6780",
   "metadata": {},
   "outputs": [
    {
     "name": "stdout",
     "output_type": "stream",
     "text": [
      "enter the obtain marks :234\n",
      "enter the obtain marks :550\n",
      "0.4254545454545455\n",
      "====================================================\n",
      "the result will be in floating point 0.43\n"
     ]
    }
   ],
   "source": [
    "ob_marks=int(input(\"enter the obtain marks :\"))\n",
    "total_marks=int(input(\"enter the obtain marks :\"))\n",
    "result=ob_marks/total_marks\n",
    "print(result)\n",
    "print(\"====================================================\")\n",
    "print (\"the result will be in floating point\",format(result,\".2f\"))"
   ]
  },
  {
   "cell_type": "markdown",
   "id": "7e3f7a24",
   "metadata": {},
   "source": [
    "## // not give result in floating number "
   ]
  },
  {
   "cell_type": "code",
   "execution_count": 26,
   "id": "ad06f9a3",
   "metadata": {},
   "outputs": [
    {
     "name": "stdout",
     "output_type": "stream",
     "text": [
      "enter the obtain marks :234\n",
      "enter the total marks :550\n",
      "0\n"
     ]
    }
   ],
   "source": [
    "ob_marks=int(input(\"enter the obtain marks :\"))\n",
    "total_marks=int(input(\"enter the total marks :\"))\n",
    "result=ob_marks//total_marks\n",
    "print (result)"
   ]
  },
  {
   "cell_type": "markdown",
   "id": "3c2e2a32",
   "metadata": {},
   "source": [
    "## program for shope which give 20% discounton on all items "
   ]
  },
  {
   "cell_type": "code",
   "execution_count": 27,
   "id": "ea199dae",
   "metadata": {},
   "outputs": [
    {
     "name": "stdout",
     "output_type": "stream",
     "text": [
      "Enter the orignal price of All items  :3456\n",
      " Congratulations you got  691.2 pkr Discount\n",
      "You have to pay only 2764.8 pkr\n"
     ]
    }
   ],
   "source": [
    "orignal_price=int(input(\"Enter the orignal price of All items  :\"))\n",
    "discount=20\n",
    "discount_price=orignal_price*discount/100\n",
    "payable_money=orignal_price-discount_price\n",
    "print(\" Congratulations you got \",discount_price,\"pkr Discount\")\n",
    "print(\"You have to pay only\",payable_money,\"pkr\")"
   ]
  },
  {
   "cell_type": "markdown",
   "id": "e19e9eb1",
   "metadata": {},
   "source": [
    "## write a program that get the 3 test score from the user and give average  of tests score "
   ]
  },
  {
   "cell_type": "code",
   "execution_count": 28,
   "id": "5942c27f",
   "metadata": {},
   "outputs": [
    {
     "name": "stdout",
     "output_type": "stream",
     "text": [
      "enter the score of the first test  :34\n",
      "enter the score of the second  test  :98\n",
      "enter the score of the third test  :76\n",
      "the total obtain score in 3 tests are : 208\n",
      "the average score of the 3 tests are : 69.33333333333333\n"
     ]
    }
   ],
   "source": [
    "test_1=int(input('enter the score of the first test  :'))\n",
    "test_2=int(input('enter the score of the second  test  :'))\n",
    "test_3=int(input('enter the score of the third test  :'))\n",
    "\n",
    "sum_of_all_test_score=test_1+test_2+test_3\n",
    "divide=3\n",
    "\n",
    "result=sum_of_all_test_score/divide\n",
    "print(\"the total obtain score in 3 tests are :\",sum_of_all_test_score)\n",
    "print(\"the average score of the 3 tests are :\",result)"
   ]
  },
  {
   "cell_type": "markdown",
   "id": "86309e89",
   "metadata": {},
   "source": [
    "## Get the  DESSIRE  future value  of  investment "
   ]
  },
  {
   "cell_type": "code",
   "execution_count": 31,
   "id": "66dac0fb",
   "metadata": {},
   "outputs": [
    {
     "name": "stdout",
     "output_type": "stream",
     "text": [
      "Enter the desire future value10000\n",
      "Enter thhe intrst rate 3.5\n",
      "Enter the years for which you want to stack you money 2\n",
      "you have to invest only : 493.82716049382714  pkr\n"
     ]
    }
   ],
   "source": [
    "future_value=int(input(\"Enter the desire future value\"))\n",
    "intrest_rate=float(input(\"Enter thhe intrst rate \"))\n",
    "years=int(input(\"Enter the years for which you want to stack you money \"))\n",
    "\n",
    "present_value=future_value/(1+intrest_rate)**years\n",
    "\n",
    "print(\"you have to invest only :\",present_value,\" pkr\")"
   ]
  },
  {
   "cell_type": "markdown",
   "id": "39f7c407",
   "metadata": {},
   "source": [
    "## SMALL COADING PROJECTS :"
   ]
  },
  {
   "cell_type": "markdown",
   "id": "a2b21d1b",
   "metadata": {},
   "source": [
    "##   Sales Prediction"
   ]
  },
  {
   "cell_type": "code",
   "execution_count": 32,
   "id": "03b57e0a",
   "metadata": {},
   "outputs": [
    {
     "name": "stdout",
     "output_type": "stream",
     "text": [
      "Enter the total sales of years : 2000000\n",
      "Enter the profit % of the year : 30\n",
      "your profit is :  600000.0\n"
     ]
    }
   ],
   "source": [
    "Total_Sales=int(input(\"Enter the total sales of years : \"))\n",
    "profit_percentage=int(input(\"Enter the profit % of the year : \"))\n",
    "profit=Total_Sales*profit_percentage/100\n",
    "print(\"your profit is : \",profit)\n"
   ]
  },
  {
   "cell_type": "markdown",
   "id": "a8b92999",
   "metadata": {},
   "source": [
    "## Pounds to Kilograms "
   ]
  },
  {
   "cell_type": "code",
   "execution_count": 33,
   "id": "609b454b",
   "metadata": {},
   "outputs": [
    {
     "name": "stdout",
     "output_type": "stream",
     "text": [
      "the convertion factor  is :  0.454\n",
      "Enter the mass in pound : 1234\n",
      "1234.0  pound is equall to   560.24    kilogram\n"
     ]
    }
   ],
   "source": [
    "convertion_factor=0.454\n",
    "print(\"the convertion factor  is : \",convertion_factor)\n",
    "mass_in_pound=float(input(\"Enter the mass in pound : \"))\n",
    "mass_in_kilogram=convertion_factor*mass_in_pound\n",
    "print(f\"{mass_in_pound}  pound is equall to   {mass_in_kilogram:.2f}    kilogram\")"
   ]
  },
  {
   "cell_type": "markdown",
   "id": "b963f359",
   "metadata": {},
   "source": [
    "## Total Purchase"
   ]
  },
  {
   "cell_type": "code",
   "execution_count": 36,
   "id": "442b7193",
   "metadata": {},
   "outputs": [
    {
     "name": "stdout",
     "output_type": "stream",
     "text": [
      "Enter the price of item 1 : 567\n",
      "Enter the price of item 2 : 232\n",
      "Enter the price of item 3 : 77\n",
      "Enter the price of item 4 : 908\n",
      "Enter the price of item 5 : 675\n",
      "Enter the sales tax : 55\n",
      "----------------------------------------\n",
      "the sales tax are :  1352.45\n",
      "the total amount before tax :  2459\n",
      "Total :  3811.45\n",
      "THANKS FOR SHOPING FROM JAN's MEDICINES \n",
      "----------------------------------------\n"
     ]
    }
   ],
   "source": [
    "item_1=int(input (\"Enter the price of item 1 : \" ))\n",
    "item_2=int(input (\"Enter the price of item 2 : \" ))\n",
    "item_3=int(input (\"Enter the price of item 3 : \" ))\n",
    "item_4=int(input (\"Enter the price of item 4 : \" ))\n",
    "item_5=int(input (\"Enter the price of item 5 : \" ))\n",
    "sale_tax=int(input(\"Enter the sales tax : \"))\n",
    "\n",
    "sub_total=item_1+item_2+item_3+item_4+item_5\n",
    "sales_tax=sub_total*sale_tax/100\n",
    "print('-'*40)\n",
    "print(\"the sales tax are : \",sales_tax)\n",
    "print(\"the total amount before tax : \",sub_total)\n",
    "\n",
    "total=sub_total+sales_tax\n",
    "print(\"Total : \",total)\n",
    "print(\"THANKS FOR SHOPING FROM JAN's MEDICINES \")\n",
    "print('-'*40)"
   ]
  },
  {
   "cell_type": "markdown",
   "id": "2fa525b0",
   "metadata": {},
   "source": [
    "## Distance Traveled "
   ]
  },
  {
   "cell_type": "code",
   "execution_count": 39,
   "id": "700464d4",
   "metadata": {},
   "outputs": [
    {
     "name": "stdout",
     "output_type": "stream",
     "text": [
      "Enter the time of Travelling a Car : 7\n",
      "Enter the speed of a car : 67\n",
      "--------------------------------------------------\n",
      "TOTAL TRAVELLING TIME : 7.0\n",
      "Speed of car per hr 67\n",
      "Distance travelled : 469.0\n",
      "--------------------------------------------------\n"
     ]
    }
   ],
   "source": [
    "time_str = input(\"Enter the time of Travelling a Car : \")\n",
    "time = float(time_str)\n",
    "\n",
    "speed = int(input(\"Enter the speed of a car : \"))\n",
    "distance = time * speed\n",
    "\n",
    "print(\"--------------------------------------------------\")\n",
    "print(\"TOTAL TRAVELLING TIME :\", time)\n",
    "print(\"Speed of car per hr\", speed)\n",
    "print(\"Distance travelled :\", distance)\n",
    "print('-'*50)"
   ]
  },
  {
   "cell_type": "markdown",
   "id": "8a2f693e",
   "metadata": {},
   "source": [
    "##  Payment Instalments"
   ]
  },
  {
   "cell_type": "code",
   "execution_count": 40,
   "id": "da2d0096",
   "metadata": {},
   "outputs": [
    {
     "name": "stdout",
     "output_type": "stream",
     "text": [
      "Enter the amount of purchased object : 100000\n",
      "Enter the No installment : 12\n",
      "Enter the intrest rate 7\n",
      "---------------------------------------------\n",
      "The intrest amount is : 7000.0\n",
      "The total price of purchased Object : 107000.0\n",
      "You have to pay :  8916.666666666666 in each installment \n",
      "---------------------------------------------\n"
     ]
    }
   ],
   "source": [
    "purchase_price=int(input(\"Enter the amount of purchased object : \"))\n",
    "installment=int(input(\"Enter the No installment : \"))\n",
    "intresr_rate=int(input(\"Enter the intrest rate \"))\n",
    "intrest=purchase_price*intresr_rate/100\n",
    "print('-'*45)\n",
    "print(\"The intrest amount is :\",intrest)\n",
    "total=purchase_price+intrest\n",
    "print(\"The total price of purchased Object :\",total)\n",
    "pay_installment=total/installment \n",
    "print(\"You have to pay : \",pay_installment,\"in each installment \")\n",
    "print('-'*45)"
   ]
  },
  {
   "cell_type": "markdown",
   "id": "58639733",
   "metadata": {},
   "source": [
    "## Miles-per-Gallon"
   ]
  },
  {
   "cell_type": "code",
   "execution_count": 15,
   "id": "62118c53",
   "metadata": {},
   "outputs": [
    {
     "name": "stdout",
     "output_type": "stream",
     "text": [
      "Enter the mile which You have driven : 5000\n",
      "Enter the amount of Gas Used : 2346\n",
      "-----------------------------------\n",
      "miles Driven :  5000\n",
      "Gallon of Gas used 2346.0\n",
      "Gallon of Gas used for each mile 2.13\n"
     ]
    }
   ],
   "source": [
    "miles_driven=int(input(\"Enter the mile which You have driven : \"))\n",
    "gallons_gas_used=float(input(\"Enter the amount of Gas Used : \"))\n",
    "MPG = miles_driven / gallons_gas_used\n",
    "print('-'*35)\n",
    "print(\"miles Driven : \",miles_driven)\n",
    "print(\"Gallon of Gas used\",gallons_gas_used)\n",
    "print(\"Gallon of Gas used for each mile\",format(MPG,\".2f\"))\n",
    "      "
   ]
  },
  {
   "cell_type": "markdown",
   "id": "49dca938",
   "metadata": {},
   "source": [
    "## Tip, Tax, and Total amount of meal "
   ]
  },
  {
   "cell_type": "code",
   "execution_count": 21,
   "id": "a500351a",
   "metadata": {},
   "outputs": [
    {
     "name": "stdout",
     "output_type": "stream",
     "text": [
      "Enter the amount of purchased meal :50000\n",
      "Enter the % of tip :17\n",
      "Enter the % of sales_tax :8\n",
      "----------------------------------------\n",
      "purchased meal :  50000\n",
      "the tip % :  17\n",
      "The sales tax % : 8\n",
      "The Tip You have to pay are :  8500.0\n",
      "The sales Tax are :  4000.0\n",
      "total amount you have to pay :  62500.0\n",
      "----------------------------------------\n"
     ]
    }
   ],
   "source": [
    "meal_price=int(input(\"Enter the amount of purchased meal :\"))\n",
    "tips=int(input(\"Enter the % of tip :\"))\n",
    "sales_taxs=int(input(\"Enter the % of sales_tax :\"))\n",
    "tip=meal_price*tips/100\n",
    "sales_tax=meal_price*sales_taxs/100\n",
    "print('-'*40)\n",
    "print('purchased meal : ',meal_price)\n",
    "print('the tip % : ',tips)\n",
    "print('The sales tax % :', sales_taxs)\n",
    "print('The Tip You have to pay are : ', tip)\n",
    "print('The sales Tax are : ',sales_tax)\n",
    "total =meal_price+sales_tax+tip\n",
    "print('total amount you have to pay : ',total)\n",
    "print('-'*40)"
   ]
  },
  {
   "cell_type": "markdown",
   "id": "5db6df47",
   "metadata": {},
   "source": [
    "## Circle Measurements"
   ]
  },
  {
   "cell_type": "code",
   "execution_count": 4,
   "id": "be8a6d20",
   "metadata": {},
   "outputs": [],
   "source": [
    "import math"
   ]
  },
  {
   "cell_type": "code",
   "execution_count": 5,
   "id": "f038f2bc",
   "metadata": {},
   "outputs": [
    {
     "name": "stdout",
     "output_type": "stream",
     "text": [
      "Enter the radius of Circle : 56.8\n",
      "----------------------------------------\n",
      "The Radius of circle is :  56.8\n",
      "The circumfarance of Circle is :  356.88\n",
      "The area of circle is :  10135.53\n",
      "----------------------------------------\n"
     ]
    }
   ],
   "source": [
    "\n",
    "\n",
    "radius=float(input(\"Enter the radius of Circle : \"))\n",
    "# area of circumference \n",
    "circumfarance_circle=2*math.pi*radius\n",
    "# area of circle\n",
    "area_circle=math.pi * radius**2 \n",
    "print('-'*40)\n",
    "print(\"The Radius of circle is : \",radius)\n",
    "print(\"The circumfarance of Circle is : \",format(circumfarance_circle,\".2f\"))\n",
    "print(\"The area of circle is : \",format(area_circle,\".2f\"))\n",
    "print('-'*40)"
   ]
  },
  {
   "cell_type": "markdown",
   "id": "844e45c1",
   "metadata": {},
   "source": [
    "##  Ingredient Adjuster "
   ]
  },
  {
   "cell_type": "code",
   "execution_count": 6,
   "id": "c9d0f249",
   "metadata": {},
   "outputs": [
    {
     "name": "stdout",
     "output_type": "stream",
     "text": [
      "Enter the No of cookies you need : 122\n",
      "--------------------------------------------------\n",
      "For the  122  Cookies you Required the following quantities :\n",
      "Sugar Required :  3.78\n",
      "Flour Required :  6.95\n",
      "Butter Required :  2.56\n",
      "--------------------------------------------------\n"
     ]
    }
   ],
   "source": [
    "#cup_of_sugar=1.5\n",
    "#cup_of_butter=1\n",
    "#cup_of_flour=2.75\n",
    "desire_cookies=int(input(\"Enter the No of cookies you need : \"))\n",
    "butter_ratio=0.021\n",
    "flour_ratio=0.057\n",
    "sugar_ratio=0.031\n",
    "required_sugar=sugar_ratio*desire_cookies\n",
    "required_flour=flour_ratio*desire_cookies\n",
    "required_butter=butter_ratio*desire_cookies\n",
    "print('-'*50)\n",
    "print(\"For the \",desire_cookies,\" Cookies you Required the following quantities :\")\n",
    "print(\"Sugar Required : \",format(required_sugar,\".2f\"))\n",
    "print(\"Flour Required : \",format(required_flour,\".2f\"))\n",
    "print(\"Butter Required : \",format(required_butter,\".2f\"))\n",
    "print('-'*50)"
   ]
  },
  {
   "cell_type": "markdown",
   "id": "f4161f5f",
   "metadata": {},
   "source": [
    "## Male and Female Percentages in class"
   ]
  },
  {
   "cell_type": "code",
   "execution_count": 16,
   "id": "fb1327ce",
   "metadata": {},
   "outputs": [
    {
     "name": "stdout",
     "output_type": "stream",
     "text": [
      "Enter the number of male students : 234\n",
      "Enter the number of female students : 765\n",
      "------------------------------------------------------------\n",
      "The Total number of students are :  999\n",
      "The male students are : 23.42 % And  76.58 % are female students\n",
      "------------------------------------------------------------\n"
     ]
    }
   ],
   "source": [
    "male_std=int(input(\"Enter the number of male students : \"))\n",
    "female_std=int(input(\"Enter the number of female students : \"))\n",
    "total=male_std+female_std\n",
    "male_percentage=male_std/total*100\n",
    "female_percentage=female_std/total*100\n",
    "print('-'*60)\n",
    "print(\"The Total number of students are : \",total)\n",
    "print(\"The male students are :\",format(male_percentage,\".2f\"),\"% And \",format(female_percentage,\".2f\"),\"% are female students\")\n",
    "print('-'*60)"
   ]
  },
  {
   "cell_type": "code",
   "execution_count": null,
   "id": "1aa8b394",
   "metadata": {},
   "outputs": [],
   "source": []
  }
 ],
 "metadata": {
  "kernelspec": {
   "display_name": "Python 3 (ipykernel)",
   "language": "python",
   "name": "python3"
  },
  "language_info": {
   "codemirror_mode": {
    "name": "ipython",
    "version": 3
   },
   "file_extension": ".py",
   "mimetype": "text/x-python",
   "name": "python",
   "nbconvert_exporter": "python",
   "pygments_lexer": "ipython3",
   "version": "3.11.5"
  }
 },
 "nbformat": 4,
 "nbformat_minor": 5
}
